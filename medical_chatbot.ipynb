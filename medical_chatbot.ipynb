{
 "cells": [
  {
   "cell_type": "code",
   "execution_count": 1,
   "metadata": {},
   "outputs": [
    {
     "name": "stderr",
     "output_type": "stream",
     "text": [
      "c:\\Users\\areef\\anaconda3\\envs\\env\\lib\\site-packages\\tqdm\\auto.py:21: TqdmWarning: IProgress not found. Please update jupyter and ipywidgets. See https://ipywidgets.readthedocs.io/en/stable/user_install.html\n",
      "  from .autonotebook import tqdm as notebook_tqdm\n"
     ]
    }
   ],
   "source": [
    "import os\n",
    "from langchain_google_genai import ChatGoogleGenerativeAI, GoogleGenerativeAIEmbeddings\n",
    "from langchain_core.prompts import ChatPromptTemplate\n",
    "from langchain_community.vectorstores import FAISS\n",
    "from langchain_text_splitters import RecursiveCharacterTextSplitter\n",
    "from langchain_community.vectorstores import Chroma\n",
    "from langchain_core.output_parsers import StrOutputParser\n",
    "from langchain_google_vertexai import VertexAIEmbeddings\n",
    "from langchain_community.document_loaders import PyPDFLoader\n",
    "from dotenv import load_dotenv"
   ]
  },
  {
   "cell_type": "code",
   "execution_count": 2,
   "metadata": {},
   "outputs": [],
   "source": [
    "disease=input(\"Enter your Question or disease:\\n\")"
   ]
  },
  {
   "cell_type": "code",
   "execution_count": 3,
   "metadata": {},
   "outputs": [],
   "source": [
    "GOOGLE_API_KEY=os.getenv('GOOGLE_API_KEY')"
   ]
  },
  {
   "cell_type": "code",
   "execution_count": 4,
   "metadata": {},
   "outputs": [],
   "source": [
    "loader=PyPDFLoader(r\"C:\\Users\\areef\\Desktop\\Gen AI\\pdfs\\medical test book 1.pdf\")\n",
    "data=loader.load()"
   ]
  },
  {
   "cell_type": "code",
   "execution_count": 5,
   "metadata": {},
   "outputs": [],
   "source": [
    "text_splitter = RecursiveCharacterTextSplitter(chunk_size=500, chunk_overlap=5)\n",
    "all_splits = text_splitter.split_documents(data)"
   ]
  },
  {
   "cell_type": "code",
   "execution_count": 40,
   "metadata": {},
   "outputs": [
    {
     "data": {
      "text/plain": [
       "39699"
      ]
     },
     "execution_count": 40,
     "metadata": {},
     "output_type": "execute_result"
    }
   ],
   "source": [
    "len(all_splits)"
   ]
  },
  {
   "cell_type": "code",
   "execution_count": null,
   "metadata": {},
   "outputs": [],
   "source": [
    "gemini_embedding = GoogleGenerativeAIEmbeddings(google_api_key = GOOGLE_API_KEY, model = \"models/embedding-001\")\n",
    "vectorstore = Chroma.from_documents(documents=all_splits, embedding=gemini_embedding)"
   ]
  },
  {
   "cell_type": "code",
   "execution_count": 59,
   "metadata": {},
   "outputs": [],
   "source": [
    "prompt2 = f\"Tell me about the medicine for {disease}. Provide detailed information including uses, dosage, side effects, and precautions.\""
   ]
  },
  {
   "cell_type": "code",
   "execution_count": 44,
   "metadata": {},
   "outputs": [],
   "source": [
    "retrieval=vectorstore.as_retriever()\n",
    "docs=retrieval.get_relevant_documents(disease)"
   ]
  },
  {
   "cell_type": "code",
   "execution_count": 35,
   "metadata": {},
   "outputs": [
    {
     "name": "stdout",
     "output_type": "stream",
     "text": [
      "[Document(metadata={'page': 210, 'source': 'C:\\\\Users\\\\areef\\\\Desktop\\\\Gen AI\\\\pdfs\\\\medical test book 1.pdf'}, page_content='the vasomotor center are activated and vasoconstriction commences. The individual \\nfirst notices vasoconstriction in the hands and feet. Shunting of blood away from the \\nperiphery to the internal organs essentially decreases heat loss from the skin, and the \\nperson feels cold. For most fevers, body temperature increases by 1 to 2°C. Shivering, \\nwhich increases heat production from the muscles, may begin at this time; however,'), Document(metadata={'page': 210, 'source': 'C:\\\\Users\\\\areef\\\\Desktop\\\\Gen AI\\\\pdfs\\\\medical test book 1.pdf'}, page_content='FEVER VERSUS HYPERTHERMIA\\nFEVER\\nFever is an elevation of body temperature that exceeds the normal daily variation and \\noccurs in conjunction with an increase in the hypothalamic set point -- for example, from \\n37°C to 39°C. This shift of the set point from \"normothermic\" to febrile levels very much \\nresembles the resetting of the home thermostat to a higher level in order to raise the \\nambient temperature in a room. Once the hypothalamic set point is raised, neurons in'), Document(metadata={'page': 216, 'source': 'C:\\\\Users\\\\areef\\\\Desktop\\\\Gen AI\\\\pdfs\\\\medical test book 1.pdf'}, page_content='in typhoid fever, brucellosis, leptospirosis, some drug-induced fevers, and factitious \\nfever. In newborns, the elderly, patients with chronic renal failure, and patients taking \\nglucocorticoids, fever may not be present despite infection, or core temperature may be \\nhypothermic. Hypothermia is observed in patients with septic shock.\\nSome febrile diseases have characteristic patterns. With relapsing fevers, febrile'), Document(metadata={'page': 214, 'source': 'C:\\\\Users\\\\areef\\\\Desktop\\\\Gen AI\\\\pdfs\\\\medical test book 1.pdf'}, page_content='Pelvic examination must be part of every complete physical examination of a woman, \\nwith a search for such causes of fever as pelvic inflammatory disease and tubo-ovarian \\nabscess.\\nLaboratory Tests Few signs and symptoms in medicine have as many diagnostic \\npossibilities as fever. If the history, epidemiologic situation, or physical examination \\nsuggests more than a simple viral illness or streptococcal pharyngitis, then laboratory')]\n"
     ]
    }
   ],
   "source": [
    "print(docs)"
   ]
  },
  {
   "cell_type": "code",
   "execution_count": 33,
   "metadata": {},
   "outputs": [],
   "source": [
    "model=ChatGoogleGenerativeAI(model=\"gemini-1.5-flash\",convert_system_message_to_human=True, api_key=GOOGLE_API_KEY,temperature = 0.1)"
   ]
  },
  {
   "cell_type": "code",
   "execution_count": 36,
   "metadata": {},
   "outputs": [],
   "source": [
    "prompt_template = \"\"\"\n",
    "Use the following pieces of information to answer the user's question.\n",
    "If you don't know the answer, just say that you don't know, don't try to make up an answer.\n",
    "\n",
    "Context: {context}\n",
    "Question: {question}\n",
    "\n",
    "Only return the helpful answer below and nothing else.\n",
    "Helpful answer:\n",
    "\"\"\""
   ]
  },
  {
   "cell_type": "code",
   "execution_count": 45,
   "metadata": {},
   "outputs": [
    {
     "name": "stderr",
     "output_type": "stream",
     "text": [
      "c:\\Users\\areef\\anaconda3\\envs\\env\\lib\\site-packages\\langchain_google_genai\\chat_models.py:310: UserWarning: Convert_system_message_to_human will be deprecated!\n",
      "  warnings.warn(\"Convert_system_message_to_human will be deprecated!\")\n"
     ]
    }
   ],
   "source": [
    "input_mess=ChatPromptTemplate.from_messages([(\"system\",prompt_template),(\"user\",\"{question}\")])\n",
    "mess=input_mess.invoke({\"context\":docs,\"question\":disease})\n",
    "response=model.invoke(mess)"
   ]
  },
  {
   "cell_type": "code",
   "execution_count": 46,
   "metadata": {},
   "outputs": [
    {
     "data": {
      "text/plain": [
       "'Fever is an elevation of body temperature that exceeds the normal daily variation and occurs in conjunction with an increase in the hypothalamic set point—for example, from 37°C to 39°C.  This resembles resetting a thermostat to a higher level.'"
      ]
     },
     "execution_count": 46,
     "metadata": {},
     "output_type": "execute_result"
    }
   ],
   "source": [
    "parser=StrOutputParser()\n",
    "parser.invoke(response).strip()"
   ]
  }
 ],
 "metadata": {
  "kernelspec": {
   "display_name": "env",
   "language": "python",
   "name": "python3"
  },
  "language_info": {
   "codemirror_mode": {
    "name": "ipython",
    "version": 3
   },
   "file_extension": ".py",
   "mimetype": "text/x-python",
   "name": "python",
   "nbconvert_exporter": "python",
   "pygments_lexer": "ipython3",
   "version": "3.10.16"
  }
 },
 "nbformat": 4,
 "nbformat_minor": 2
}
